{
 "cells": [
  {
   "cell_type": "markdown",
   "metadata": {},
   "source": [
    "# Netflix - Project Analysis \n",
    "\n",
    "\n",
    "### TV Shows and Movies listed on Netflix\n",
    "\n",
    "This dataset consists of tv shows and movies available on Netflix as of 2019. The dataset is collected from Flixable which is a third-party Netflix search engine.\n",
    "\n",
    "In 2018, they released an interesting report which shows that the number of TV shows on Netflix has nearly tripled since 2010. The streaming service’s number of movies has decreased by more than 2,000 titles since 2010, while its number of TV shows has nearly tripled. It will be interesting to explore what all other insights can be obtained from the same dataset.\n",
    "\n",
    "Integrating this dataset with other external datasets such as IMDB ratings, rotten tomatoes can also provide many interesting findings.\n",
    "\n",
    "### Analysis \n",
    "\n",
    "Some of the interesting questions (tasks) which can be performed on this dataset -\n",
    "\n",
    "- Understanding what content is available in different countries\n",
    "- Identifying similar content by matching text-based features\n",
    "- Network analysis of Actors / Directors and find interesting insights\n",
    "- Is Netflix has increasingly focusing on TV rather than movies in recent years.\n",
    "\n",
    "\n",
    "### Data Dictionary \n",
    "\n",
    "- Show_id : Unique ID for every Movie / Tv Show\n",
    "- Type : Identifier - A Movie or TV Show\n",
    "- Title : Title of the Movie / Tv Show\n",
    "- Director: Director of the Movie\n",
    "- Cast : Actors involved in the movie / show\n",
    "- Country : Country where the movie / show was produced\n",
    "- Date_added : Date it was added on Netflix\n",
    "- Release_year :Actual Release year of the move / show\n",
    "- Rating: TV Rating of the movie / show\n",
    "- Duration: Total Duration - in minutes or number of seasons\n",
    "- Listed_in : Genre\n",
    "- Description: The summary description"
   ]
  },
  {
   "cell_type": "code",
   "execution_count": null,
   "metadata": {},
   "outputs": [],
   "source": []
  }
 ],
 "metadata": {
  "kernelspec": {
   "display_name": "Python 3",
   "language": "python",
   "name": "python3"
  },
  "language_info": {
   "codemirror_mode": {
    "name": "ipython",
    "version": 3
   },
   "file_extension": ".py",
   "mimetype": "text/x-python",
   "name": "python",
   "nbconvert_exporter": "python",
   "pygments_lexer": "ipython3",
   "version": "3.8.5"
  }
 },
 "nbformat": 4,
 "nbformat_minor": 4
}
